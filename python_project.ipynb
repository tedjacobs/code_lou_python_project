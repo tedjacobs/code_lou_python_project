{
 "cells": [
  {
   "cell_type": "code",
   "execution_count": 54,
   "metadata": {},
   "outputs": [],
   "source": [
    "import matplotlib.pyplot as plt\n",
    "import numpy as np\n",
    "import os\n",
    "import pandas as pd\n",
    "import pyodbc\n",
    "import sqlite3 as sql\n",
    "from IPython.display import Markdown, display\n",
    "% matplotlib inline\n",
    "\n",
    "def printmd(string):\n",
    "    display(Markdown(string))"
   ]
  },
  {
   "cell_type": "code",
   "execution_count": 55,
   "metadata": {},
   "outputs": [],
   "source": [
    "con = sql.connect('Equity.db')\n",
    "c = con.cursor()"
   ]
  },
  {
   "cell_type": "code",
   "execution_count": 56,
   "metadata": {},
   "outputs": [],
   "source": [
    "df = pd.read_csv(\"Revenue_Aid_2016.csv\")"
   ]
  },
  {
   "cell_type": "code",
   "execution_count": 57,
   "metadata": {},
   "outputs": [],
   "source": [
    "df.columns = df.columns.str.strip().str.lower().str.replace(' ', '_').str.replace('(', '').str.replace(')','')"
   ]
  },
  {
   "cell_type": "code",
   "execution_count": 58,
   "metadata": {},
   "outputs": [
    {
     "data": {
      "text/html": [
       "<div>\n",
       "<style scoped>\n",
       "    .dataframe tbody tr th:only-of-type {\n",
       "        vertical-align: middle;\n",
       "    }\n",
       "\n",
       "    .dataframe tbody tr th {\n",
       "        vertical-align: top;\n",
       "    }\n",
       "\n",
       "    .dataframe thead th {\n",
       "        text-align: right;\n",
       "    }\n",
       "</style>\n",
       "<table border=\"1\" class=\"dataframe\">\n",
       "  <thead>\n",
       "    <tr style=\"text-align: right;\">\n",
       "      <th></th>\n",
       "      <th>school_id</th>\n",
       "      <th>survey_year</th>\n",
       "      <th>institution_name</th>\n",
       "      <th>state_cd</th>\n",
       "      <th>classification_name</th>\n",
       "      <th>sanction_name</th>\n",
       "      <th>total_mens_team_revenue</th>\n",
       "      <th>total_womens_team_revenue</th>\n",
       "      <th>not_allocated_by_gender/sport_revenue</th>\n",
       "      <th>grand_total_revenue</th>\n",
       "      <th>mens_team_athletic_student_aid</th>\n",
       "      <th>womens_team_athletic_student_aid</th>\n",
       "      <th>male_undergraduates</th>\n",
       "      <th>female_undergraduates</th>\n",
       "      <th>total_undergraduates</th>\n",
       "    </tr>\n",
       "  </thead>\n",
       "  <tbody>\n",
       "    <tr>\n",
       "      <th>0</th>\n",
       "      <td>1</td>\n",
       "      <td>2016</td>\n",
       "      <td>University of Louisville</td>\n",
       "      <td>KY</td>\n",
       "      <td>NCAA Division I-FBS</td>\n",
       "      <td>NCAA</td>\n",
       "      <td>87066830</td>\n",
       "      <td>1723173</td>\n",
       "      <td>33655301</td>\n",
       "      <td>122445304</td>\n",
       "      <td>6249734</td>\n",
       "      <td>5907156</td>\n",
       "      <td>5925</td>\n",
       "      <td>6400</td>\n",
       "      <td>12325</td>\n",
       "    </tr>\n",
       "    <tr>\n",
       "      <th>1</th>\n",
       "      <td>2</td>\n",
       "      <td>2016</td>\n",
       "      <td>University of Kentucky</td>\n",
       "      <td>KY</td>\n",
       "      <td>NCAA Division I-FBS</td>\n",
       "      <td>NCAA</td>\n",
       "      <td>65217902</td>\n",
       "      <td>1626718</td>\n",
       "      <td>55447093</td>\n",
       "      <td>122307014</td>\n",
       "      <td>7119237</td>\n",
       "      <td>4874527</td>\n",
       "      <td>9420</td>\n",
       "      <td>11352</td>\n",
       "      <td>20772</td>\n",
       "    </tr>\n",
       "    <tr>\n",
       "      <th>2</th>\n",
       "      <td>3</td>\n",
       "      <td>2016</td>\n",
       "      <td>Indiana University</td>\n",
       "      <td>IN</td>\n",
       "      <td>NCAA Division I-FBS</td>\n",
       "      <td>NCAA</td>\n",
       "      <td>62767976</td>\n",
       "      <td>756377</td>\n",
       "      <td>41294985</td>\n",
       "      <td>104819338</td>\n",
       "      <td>8487821</td>\n",
       "      <td>7039065</td>\n",
       "      <td>16085</td>\n",
       "      <td>15799</td>\n",
       "      <td>31884</td>\n",
       "    </tr>\n",
       "  </tbody>\n",
       "</table>\n",
       "</div>"
      ],
      "text/plain": [
       "   school_id  survey_year          institution_name state_cd  \\\n",
       "0          1         2016  University of Louisville       KY   \n",
       "1          2         2016    University of Kentucky       KY   \n",
       "2          3         2016        Indiana University       IN   \n",
       "\n",
       "   classification_name sanction_name  total_mens_team_revenue  \\\n",
       "0  NCAA Division I-FBS          NCAA                 87066830   \n",
       "1  NCAA Division I-FBS          NCAA                 65217902   \n",
       "2  NCAA Division I-FBS          NCAA                 62767976   \n",
       "\n",
       "   total_womens_team_revenue  not_allocated_by_gender/sport_revenue  \\\n",
       "0                    1723173                               33655301   \n",
       "1                    1626718                               55447093   \n",
       "2                     756377                               41294985   \n",
       "\n",
       "   grand_total_revenue  mens_team_athletic_student_aid  \\\n",
       "0            122445304                         6249734   \n",
       "1            122307014                         7119237   \n",
       "2            104819338                         8487821   \n",
       "\n",
       "   womens_team_athletic_student_aid  male_undergraduates  \\\n",
       "0                           5907156                 5925   \n",
       "1                           4874527                 9420   \n",
       "2                           7039065                16085   \n",
       "\n",
       "   female_undergraduates  total_undergraduates  \n",
       "0                   6400                 12325  \n",
       "1                  11352                 20772  \n",
       "2                  15799                 31884  "
      ]
     },
     "execution_count": 58,
     "metadata": {},
     "output_type": "execute_result"
    }
   ],
   "source": [
    "df"
   ]
  },
  {
   "cell_type": "code",
   "execution_count": 59,
   "metadata": {},
   "outputs": [],
   "source": [
    "df.to_sql(\"equity\", con, schema=None,\n",
    "         if_exists='replace', index=True, index_label=None,\n",
    "         chunksize=None, dtype=None)"
   ]
  },
  {
   "cell_type": "code",
   "execution_count": 60,
   "metadata": {},
   "outputs": [],
   "source": [
    "drop_table_sql = \"DROP TABLE IF EXISTS equity;\""
   ]
  },
  {
   "cell_type": "code",
   "execution_count": 61,
   "metadata": {},
   "outputs": [
    {
     "data": {
      "text/html": [
       "<div>\n",
       "<style scoped>\n",
       "    .dataframe tbody tr th:only-of-type {\n",
       "        vertical-align: middle;\n",
       "    }\n",
       "\n",
       "    .dataframe tbody tr th {\n",
       "        vertical-align: top;\n",
       "    }\n",
       "\n",
       "    .dataframe thead th {\n",
       "        text-align: right;\n",
       "    }\n",
       "</style>\n",
       "<table border=\"1\" class=\"dataframe\">\n",
       "  <thead>\n",
       "    <tr style=\"text-align: right;\">\n",
       "      <th></th>\n",
       "      <th>index</th>\n",
       "      <th>school_id</th>\n",
       "      <th>survey_year</th>\n",
       "      <th>institution_name</th>\n",
       "      <th>state_cd</th>\n",
       "      <th>classification_name</th>\n",
       "      <th>sanction_name</th>\n",
       "      <th>total_mens_team_revenue</th>\n",
       "      <th>total_womens_team_revenue</th>\n",
       "      <th>not_allocated_by_gender/sport_revenue</th>\n",
       "      <th>grand_total_revenue</th>\n",
       "      <th>mens_team_athletic_student_aid</th>\n",
       "      <th>womens_team_athletic_student_aid</th>\n",
       "      <th>male_undergraduates</th>\n",
       "      <th>female_undergraduates</th>\n",
       "      <th>total_undergraduates</th>\n",
       "    </tr>\n",
       "  </thead>\n",
       "  <tbody>\n",
       "    <tr>\n",
       "      <th>0</th>\n",
       "      <td>0</td>\n",
       "      <td>1</td>\n",
       "      <td>2016</td>\n",
       "      <td>University of Louisville</td>\n",
       "      <td>KY</td>\n",
       "      <td>NCAA Division I-FBS</td>\n",
       "      <td>NCAA</td>\n",
       "      <td>87066830</td>\n",
       "      <td>1723173</td>\n",
       "      <td>33655301</td>\n",
       "      <td>122445304</td>\n",
       "      <td>6249734</td>\n",
       "      <td>5907156</td>\n",
       "      <td>5925</td>\n",
       "      <td>6400</td>\n",
       "      <td>12325</td>\n",
       "    </tr>\n",
       "    <tr>\n",
       "      <th>1</th>\n",
       "      <td>1</td>\n",
       "      <td>2</td>\n",
       "      <td>2016</td>\n",
       "      <td>University of Kentucky</td>\n",
       "      <td>KY</td>\n",
       "      <td>NCAA Division I-FBS</td>\n",
       "      <td>NCAA</td>\n",
       "      <td>65217902</td>\n",
       "      <td>1626718</td>\n",
       "      <td>55447093</td>\n",
       "      <td>122307014</td>\n",
       "      <td>7119237</td>\n",
       "      <td>4874527</td>\n",
       "      <td>9420</td>\n",
       "      <td>11352</td>\n",
       "      <td>20772</td>\n",
       "    </tr>\n",
       "    <tr>\n",
       "      <th>2</th>\n",
       "      <td>2</td>\n",
       "      <td>3</td>\n",
       "      <td>2016</td>\n",
       "      <td>Indiana University</td>\n",
       "      <td>IN</td>\n",
       "      <td>NCAA Division I-FBS</td>\n",
       "      <td>NCAA</td>\n",
       "      <td>62767976</td>\n",
       "      <td>756377</td>\n",
       "      <td>41294985</td>\n",
       "      <td>104819338</td>\n",
       "      <td>8487821</td>\n",
       "      <td>7039065</td>\n",
       "      <td>16085</td>\n",
       "      <td>15799</td>\n",
       "      <td>31884</td>\n",
       "    </tr>\n",
       "  </tbody>\n",
       "</table>\n",
       "</div>"
      ],
      "text/plain": [
       "   index  school_id  survey_year          institution_name state_cd  \\\n",
       "0      0          1         2016  University of Louisville       KY   \n",
       "1      1          2         2016    University of Kentucky       KY   \n",
       "2      2          3         2016        Indiana University       IN   \n",
       "\n",
       "   classification_name sanction_name  total_mens_team_revenue  \\\n",
       "0  NCAA Division I-FBS          NCAA                 87066830   \n",
       "1  NCAA Division I-FBS          NCAA                 65217902   \n",
       "2  NCAA Division I-FBS          NCAA                 62767976   \n",
       "\n",
       "   total_womens_team_revenue  not_allocated_by_gender/sport_revenue  \\\n",
       "0                    1723173                               33655301   \n",
       "1                    1626718                               55447093   \n",
       "2                     756377                               41294985   \n",
       "\n",
       "   grand_total_revenue  mens_team_athletic_student_aid  \\\n",
       "0            122445304                         6249734   \n",
       "1            122307014                         7119237   \n",
       "2            104819338                         8487821   \n",
       "\n",
       "   womens_team_athletic_student_aid  male_undergraduates  \\\n",
       "0                           5907156                 5925   \n",
       "1                           4874527                 9420   \n",
       "2                           7039065                16085   \n",
       "\n",
       "   female_undergraduates  total_undergraduates  \n",
       "0                   6400                 12325  \n",
       "1                  11352                 20772  \n",
       "2                  15799                 31884  "
      ]
     },
     "execution_count": 61,
     "metadata": {},
     "output_type": "execute_result"
    }
   ],
   "source": [
    "df1 = pd.read_sql(\"SELECT * FROM Equity\", con)\n",
    "df1"
   ]
  },
  {
   "cell_type": "code",
   "execution_count": 62,
   "metadata": {},
   "outputs": [
    {
     "data": {
      "text/html": [
       "<div>\n",
       "<style scoped>\n",
       "    .dataframe tbody tr th:only-of-type {\n",
       "        vertical-align: middle;\n",
       "    }\n",
       "\n",
       "    .dataframe tbody tr th {\n",
       "        vertical-align: top;\n",
       "    }\n",
       "\n",
       "    .dataframe thead th {\n",
       "        text-align: right;\n",
       "    }\n",
       "</style>\n",
       "<table border=\"1\" class=\"dataframe\">\n",
       "  <thead>\n",
       "    <tr style=\"text-align: right;\">\n",
       "      <th></th>\n",
       "      <th>institution_name</th>\n",
       "      <th>grand_total_revenue</th>\n",
       "    </tr>\n",
       "  </thead>\n",
       "  <tbody>\n",
       "    <tr>\n",
       "      <th>0</th>\n",
       "      <td>University of Louisville</td>\n",
       "      <td>122445304</td>\n",
       "    </tr>\n",
       "    <tr>\n",
       "      <th>1</th>\n",
       "      <td>University of Kentucky</td>\n",
       "      <td>122307014</td>\n",
       "    </tr>\n",
       "    <tr>\n",
       "      <th>2</th>\n",
       "      <td>Indiana University</td>\n",
       "      <td>104819338</td>\n",
       "    </tr>\n",
       "  </tbody>\n",
       "</table>\n",
       "</div>"
      ],
      "text/plain": [
       "           institution_name  grand_total_revenue\n",
       "0  University of Louisville            122445304\n",
       "1    University of Kentucky            122307014\n",
       "2        Indiana University            104819338"
      ]
     },
     "execution_count": 62,
     "metadata": {},
     "output_type": "execute_result"
    }
   ],
   "source": [
    "revenue = pd.read_sql(\"SELECT institution_name, grand_total_revenue FROM Equity\", con)\n",
    "revenue"
   ]
  },
  {
   "cell_type": "code",
   "execution_count": 63,
   "metadata": {},
   "outputs": [
    {
     "data": {
      "text/html": [
       "<div>\n",
       "<style scoped>\n",
       "    .dataframe tbody tr th:only-of-type {\n",
       "        vertical-align: middle;\n",
       "    }\n",
       "\n",
       "    .dataframe tbody tr th {\n",
       "        vertical-align: top;\n",
       "    }\n",
       "\n",
       "    .dataframe thead th {\n",
       "        text-align: right;\n",
       "    }\n",
       "</style>\n",
       "<table border=\"1\" class=\"dataframe\">\n",
       "  <thead>\n",
       "    <tr style=\"text-align: right;\">\n",
       "      <th></th>\n",
       "      <th>institution_name</th>\n",
       "      <th>mens_team_athletic_student_aid</th>\n",
       "      <th>womens_team_athletic_student_aid</th>\n",
       "    </tr>\n",
       "  </thead>\n",
       "  <tbody>\n",
       "    <tr>\n",
       "      <th>0</th>\n",
       "      <td>University of Louisville</td>\n",
       "      <td>6249734</td>\n",
       "      <td>5907156</td>\n",
       "    </tr>\n",
       "    <tr>\n",
       "      <th>1</th>\n",
       "      <td>University of Kentucky</td>\n",
       "      <td>7119237</td>\n",
       "      <td>4874527</td>\n",
       "    </tr>\n",
       "    <tr>\n",
       "      <th>2</th>\n",
       "      <td>Indiana University</td>\n",
       "      <td>8487821</td>\n",
       "      <td>7039065</td>\n",
       "    </tr>\n",
       "  </tbody>\n",
       "</table>\n",
       "</div>"
      ],
      "text/plain": [
       "           institution_name  mens_team_athletic_student_aid  \\\n",
       "0  University of Louisville                         6249734   \n",
       "1    University of Kentucky                         7119237   \n",
       "2        Indiana University                         8487821   \n",
       "\n",
       "   womens_team_athletic_student_aid  \n",
       "0                           5907156  \n",
       "1                           4874527  \n",
       "2                           7039065  "
      ]
     },
     "execution_count": 63,
     "metadata": {},
     "output_type": "execute_result"
    }
   ],
   "source": [
    "aid = pd.read_sql(\"SELECT institution_name, mens_team_athletic_student_aid, womens_team_athletic_student_aid FROM Equity\", con)\n",
    "aid"
   ]
  },
  {
   "cell_type": "code",
   "execution_count": 64,
   "metadata": {},
   "outputs": [
    {
     "data": {
      "text/plain": [
       "<matplotlib.axes._subplots.AxesSubplot at 0x1f432e0b630>"
      ]
     },
     "execution_count": 64,
     "metadata": {},
     "output_type": "execute_result"
    },
    {
     "data": {
      "image/png": "[encoded data removed]",
      "text/plain": [
       "<Figure size 432x288 with 1 Axes>"
      ]
     },
     "metadata": {},
     "output_type": "display_data"
    }
   ],
   "source": [
    "df1.plot(kind='bar', x='institution_name', y='grand_total_revenue')"
   ]
  },
  {
   "cell_type": "code",
   "execution_count": 65,
   "metadata": {},
   "outputs": [
    {
     "data": {
      "image/png": "[encoded data removed]",
      "text/plain": [
       "<Figure size 1080x720 with 1 Axes>"
      ]
     },
     "metadata": {},
     "output_type": "display_data"
    }
   ],
   "source": [
    "title = (\"Revenue\")\n",
    "ax = revenue[['institution_name', 'grand_total_revenue']].plot(kind='bar',\n",
    "                                                              title=title,\n",
    "                                                              color =(\"#AD0000\",\n",
    "                                                                      \"#0033a0\",\n",
    "                                                                      \"#990000\"),\n",
    "                                                           figsize=(15, 10),\n",
    "                                                                 legend=False,\n",
    "                                                              fontsize=20)\n",
    "ax.set_xlabel(\"Schools\", fontsize=30)\n",
    "ax.set_ylabel(\"Revenue in Millions\", fontsize=30)\n",
    "plt.show()"
   ]
  },
  {
   "cell_type": "code",
   "execution_count": 69,
   "metadata": {},
   "outputs": [
    {
     "data": {
      "image/png": "[encoded data removed]",
      "text/plain": [
       "<Figure size 432x288 with 1 Axes>"
      ]
     },
     "metadata": {},
     "output_type": "display_data"
    }
   ],
   "source": [
    "labels = revenue['institution_name']\n",
    "sizes = revenue['grand_total_revenue']\n",
    "\n",
    "colors = ['#AD0000', '#0033a0', '#990000']\n",
    "\n",
    "explode = (0.02, 0.02, 0.02)\n",
    "\n",
    "fig, ax = plt.subplots()\n",
    "\n",
    "plt.pie(sizes, colors = colors, labels=labels, startangle=90,\n",
    "        explode = explode)\n",
    "\n",
    "center_circle = plt.Circle((0,0), 0.70, fc='white')\n",
    "fig = plt.gcf()\n",
    "fig.gca().add_artist(center_circle)\n",
    "\n",
    "ax.axis('equal')\n",
    "plt.tight_layout()\n",
    "plt.show()"
   ]
  },
  {
   "cell_type": "code",
   "execution_count": null,
   "metadata": {},
   "outputs": [],
   "source": [
    "labels = ['UofL', 'UofK', 'IU']"
   ]
  },
  {
   "cell_type": "code",
   "execution_count": 13,
   "metadata": {},
   "outputs": [
    {
     "data": {
      "image/png": "[encoded data removed]",
      "text/plain": [
       "<Figure size 432x288 with 1 Axes>"
      ]
     },
     "metadata": {},
     "output_type": "display_data"
    }
   ],
   "source": [
    "height = [122.445, 122.307, 104.819]\n",
    "\n",
    "bars = ('UofL', 'UofK', 'IU')\n",
    "y_pos = np.arange(len(bars))\n",
    "\n",
    "plt.bar(y_pos, height)\n",
    "\n",
    "plt.xticks(y_pos, bars, color='black')\n",
    "plt.yticks(color='black')\n",
    "\n",
    "plt.show()"
   ]
  },
  {
   "cell_type": "code",
   "execution_count": null,
   "metadata": {},
   "outputs": [],
   "source": []
  }
 ],
 "metadata": {
  "kernelspec": {
   "display_name": "Python 3",
   "language": "python",
   "name": "python3"
  },
  "language_info": {
   "codemirror_mode": {
    "name": "ipython",
    "version": 3
   },
   "file_extension": ".py",
   "mimetype": "text/x-python",
   "name": "python",
   "nbconvert_exporter": "python",
   "pygments_lexer": "ipython3",
   "version": "3.6.5"
  }
 },
 "nbformat": 4,
 "nbformat_minor": 2
}
