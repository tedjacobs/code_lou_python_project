{
 "cells": [
  {
   "cell_type": "code",
   "execution_count": 86,
   "metadata": {},
   "outputs": [],
   "source": [
    "import os\n",
    "import pyodbc\n",
    "import pandas as pd\n",
    "import numpy as np\n",
    "import matplotlib.pyplot as plt\n",
    "import sqlite3 as sql\n",
    "% matplotlib inline"
   ]
  },
  {
   "cell_type": "code",
   "execution_count": 87,
   "metadata": {},
   "outputs": [],
   "source": [
    "db = sql.connect('Revenue_Aid_2016.csv')"
   ]
  },
  {
   "cell_type": "code",
   "execution_count": 88,
   "metadata": {},
   "outputs": [],
   "source": [
    "df1 = pd.read_csv(\"Revenue_Aid_2016.csv\")"
   ]
  },
  {
   "cell_type": "code",
   "execution_count": 89,
   "metadata": {},
   "outputs": [
    {
     "data": {
      "text/html": [
       "<div>\n",
       "<style scoped>\n",
       "    .dataframe tbody tr th:only-of-type {\n",
       "        vertical-align: middle;\n",
       "    }\n",
       "\n",
       "    .dataframe tbody tr th {\n",
       "        vertical-align: top;\n",
       "    }\n",
       "\n",
       "    .dataframe thead th {\n",
       "        text-align: right;\n",
       "    }\n",
       "</style>\n",
       "<table border=\"1\" class=\"dataframe\">\n",
       "  <thead>\n",
       "    <tr style=\"text-align: right;\">\n",
       "      <th></th>\n",
       "      <th>School ID</th>\n",
       "      <th>Survey Year</th>\n",
       "      <th>Institution Name</th>\n",
       "      <th>State CD</th>\n",
       "      <th>Classification Name</th>\n",
       "      <th>Sanction Name</th>\n",
       "      <th>Total Men's Team Revenue</th>\n",
       "      <th>Total Women's Team Revenue</th>\n",
       "      <th>Not Allocated by Gender/Sport Revenue</th>\n",
       "      <th>Grand Total Revenue</th>\n",
       "      <th>Men's Team Athletic Student Aid</th>\n",
       "      <th>Women's Team Athletic Student Aid</th>\n",
       "      <th>Male Undergraduates</th>\n",
       "      <th>Female Undergraduates</th>\n",
       "      <th>Total Undergraduates</th>\n",
       "    </tr>\n",
       "  </thead>\n",
       "  <tbody>\n",
       "    <tr>\n",
       "      <th>0</th>\n",
       "      <td>1</td>\n",
       "      <td>2016</td>\n",
       "      <td>University of Louisville</td>\n",
       "      <td>KY</td>\n",
       "      <td>NCAA Division I-FBS</td>\n",
       "      <td>NCAA</td>\n",
       "      <td>87066830</td>\n",
       "      <td>1723173</td>\n",
       "      <td>33655301</td>\n",
       "      <td>122445304</td>\n",
       "      <td>6249734</td>\n",
       "      <td>5907156</td>\n",
       "      <td>5925</td>\n",
       "      <td>6400</td>\n",
       "      <td>12325</td>\n",
       "    </tr>\n",
       "    <tr>\n",
       "      <th>1</th>\n",
       "      <td>2</td>\n",
       "      <td>2016</td>\n",
       "      <td>University of Kentucky</td>\n",
       "      <td>KY</td>\n",
       "      <td>NCAA Division I-FBS</td>\n",
       "      <td>NCAA</td>\n",
       "      <td>65217902</td>\n",
       "      <td>1626718</td>\n",
       "      <td>55447093</td>\n",
       "      <td>122307014</td>\n",
       "      <td>7119237</td>\n",
       "      <td>4874527</td>\n",
       "      <td>9420</td>\n",
       "      <td>11352</td>\n",
       "      <td>20772</td>\n",
       "    </tr>\n",
       "    <tr>\n",
       "      <th>2</th>\n",
       "      <td>3</td>\n",
       "      <td>2016</td>\n",
       "      <td>Indiana University-Bloomington</td>\n",
       "      <td>IN</td>\n",
       "      <td>NCAA Division I-FBS</td>\n",
       "      <td>NCAA</td>\n",
       "      <td>62767976</td>\n",
       "      <td>756377</td>\n",
       "      <td>41294985</td>\n",
       "      <td>104819338</td>\n",
       "      <td>8487821</td>\n",
       "      <td>7039065</td>\n",
       "      <td>16085</td>\n",
       "      <td>15799</td>\n",
       "      <td>31884</td>\n",
       "    </tr>\n",
       "  </tbody>\n",
       "</table>\n",
       "</div>"
      ],
      "text/plain": [
       "   School ID  Survey Year                Institution Name State CD  \\\n",
       "0          1         2016        University of Louisville       KY   \n",
       "1          2         2016          University of Kentucky       KY   \n",
       "2          3         2016  Indiana University-Bloomington       IN   \n",
       "\n",
       "   Classification Name Sanction Name  Total Men's Team Revenue  \\\n",
       "0  NCAA Division I-FBS          NCAA                  87066830   \n",
       "1  NCAA Division I-FBS          NCAA                  65217902   \n",
       "2  NCAA Division I-FBS          NCAA                  62767976   \n",
       "\n",
       "   Total Women's Team Revenue  Not Allocated by Gender/Sport Revenue  \\\n",
       "0                     1723173                               33655301   \n",
       "1                     1626718                               55447093   \n",
       "2                      756377                               41294985   \n",
       "\n",
       "   Grand Total Revenue  Men's Team Athletic Student Aid  \\\n",
       "0            122445304                          6249734   \n",
       "1            122307014                          7119237   \n",
       "2            104819338                          8487821   \n",
       "\n",
       "   Women's Team Athletic Student Aid  Male Undergraduates  \\\n",
       "0                            5907156                 5925   \n",
       "1                            4874527                 9420   \n",
       "2                            7039065                16085   \n",
       "\n",
       "   Female Undergraduates  Total Undergraduates  \n",
       "0                   6400                 12325  \n",
       "1                  11352                 20772  \n",
       "2                  15799                 31884  "
      ]
     },
     "execution_count": 89,
     "metadata": {},
     "output_type": "execute_result"
    }
   ],
   "source": [
    "df1"
   ]
  },
  {
   "cell_type": "code",
   "execution_count": 90,
   "metadata": {},
   "outputs": [],
   "source": [
    "df1.columns = df1.columns.str.strip().str.lower().str.replace(' ', '_').str.replace('(', '').str.replace(')','')"
   ]
  },
  {
   "cell_type": "code",
   "execution_count": 91,
   "metadata": {
    "scrolled": true
   },
   "outputs": [
    {
     "data": {
      "text/html": [
       "<div>\n",
       "<style scoped>\n",
       "    .dataframe tbody tr th:only-of-type {\n",
       "        vertical-align: middle;\n",
       "    }\n",
       "\n",
       "    .dataframe tbody tr th {\n",
       "        vertical-align: top;\n",
       "    }\n",
       "\n",
       "    .dataframe thead th {\n",
       "        text-align: right;\n",
       "    }\n",
       "</style>\n",
       "<table border=\"1\" class=\"dataframe\">\n",
       "  <thead>\n",
       "    <tr style=\"text-align: right;\">\n",
       "      <th></th>\n",
       "      <th>school_id</th>\n",
       "      <th>survey_year</th>\n",
       "      <th>institution_name</th>\n",
       "      <th>state_cd</th>\n",
       "      <th>classification_name</th>\n",
       "      <th>sanction_name</th>\n",
       "      <th>total_men's_team_revenue</th>\n",
       "      <th>total_women's_team_revenue</th>\n",
       "      <th>not_allocated_by_gender/sport_revenue</th>\n",
       "      <th>grand_total_revenue</th>\n",
       "      <th>men's_team_athletic_student_aid</th>\n",
       "      <th>women's_team_athletic_student_aid</th>\n",
       "      <th>male_undergraduates</th>\n",
       "      <th>female_undergraduates</th>\n",
       "      <th>total_undergraduates</th>\n",
       "    </tr>\n",
       "  </thead>\n",
       "  <tbody>\n",
       "    <tr>\n",
       "      <th>0</th>\n",
       "      <td>1</td>\n",
       "      <td>2016</td>\n",
       "      <td>University of Louisville</td>\n",
       "      <td>KY</td>\n",
       "      <td>NCAA Division I-FBS</td>\n",
       "      <td>NCAA</td>\n",
       "      <td>87066830</td>\n",
       "      <td>1723173</td>\n",
       "      <td>33655301</td>\n",
       "      <td>122445304</td>\n",
       "      <td>6249734</td>\n",
       "      <td>5907156</td>\n",
       "      <td>5925</td>\n",
       "      <td>6400</td>\n",
       "      <td>12325</td>\n",
       "    </tr>\n",
       "    <tr>\n",
       "      <th>1</th>\n",
       "      <td>2</td>\n",
       "      <td>2016</td>\n",
       "      <td>University of Kentucky</td>\n",
       "      <td>KY</td>\n",
       "      <td>NCAA Division I-FBS</td>\n",
       "      <td>NCAA</td>\n",
       "      <td>65217902</td>\n",
       "      <td>1626718</td>\n",
       "      <td>55447093</td>\n",
       "      <td>122307014</td>\n",
       "      <td>7119237</td>\n",
       "      <td>4874527</td>\n",
       "      <td>9420</td>\n",
       "      <td>11352</td>\n",
       "      <td>20772</td>\n",
       "    </tr>\n",
       "    <tr>\n",
       "      <th>2</th>\n",
       "      <td>3</td>\n",
       "      <td>2016</td>\n",
       "      <td>Indiana University-Bloomington</td>\n",
       "      <td>IN</td>\n",
       "      <td>NCAA Division I-FBS</td>\n",
       "      <td>NCAA</td>\n",
       "      <td>62767976</td>\n",
       "      <td>756377</td>\n",
       "      <td>41294985</td>\n",
       "      <td>104819338</td>\n",
       "      <td>8487821</td>\n",
       "      <td>7039065</td>\n",
       "      <td>16085</td>\n",
       "      <td>15799</td>\n",
       "      <td>31884</td>\n",
       "    </tr>\n",
       "  </tbody>\n",
       "</table>\n",
       "</div>"
      ],
      "text/plain": [
       "   school_id  survey_year                institution_name state_cd  \\\n",
       "0          1         2016        University of Louisville       KY   \n",
       "1          2         2016          University of Kentucky       KY   \n",
       "2          3         2016  Indiana University-Bloomington       IN   \n",
       "\n",
       "   classification_name sanction_name  total_men's_team_revenue  \\\n",
       "0  NCAA Division I-FBS          NCAA                  87066830   \n",
       "1  NCAA Division I-FBS          NCAA                  65217902   \n",
       "2  NCAA Division I-FBS          NCAA                  62767976   \n",
       "\n",
       "   total_women's_team_revenue  not_allocated_by_gender/sport_revenue  \\\n",
       "0                     1723173                               33655301   \n",
       "1                     1626718                               55447093   \n",
       "2                      756377                               41294985   \n",
       "\n",
       "   grand_total_revenue  men's_team_athletic_student_aid  \\\n",
       "0            122445304                          6249734   \n",
       "1            122307014                          7119237   \n",
       "2            104819338                          8487821   \n",
       "\n",
       "   women's_team_athletic_student_aid  male_undergraduates  \\\n",
       "0                            5907156                 5925   \n",
       "1                            4874527                 9420   \n",
       "2                            7039065                16085   \n",
       "\n",
       "   female_undergraduates  total_undergraduates  \n",
       "0                   6400                 12325  \n",
       "1                  11352                 20772  \n",
       "2                  15799                 31884  "
      ]
     },
     "execution_count": 91,
     "metadata": {},
     "output_type": "execute_result"
    }
   ],
   "source": [
    "df1"
   ]
  },
  {
   "cell_type": "code",
   "execution_count": 92,
   "metadata": {},
   "outputs": [],
   "source": [
    "from sqlalchemy import create_engine"
   ]
  },
  {
   "cell_type": "code",
   "execution_count": 93,
   "metadata": {},
   "outputs": [],
   "source": [
    "engine = create_engine('sqlite://', echo=False)"
   ]
  },
  {
   "cell_type": "code",
   "execution_count": 94,
   "metadata": {},
   "outputs": [],
   "source": [
    "df1.to_sql(\"equity\", con=engine)"
   ]
  },
  {
   "cell_type": "code",
   "execution_count": 96,
   "metadata": {},
   "outputs": [
    {
     "data": {
      "text/plain": [
       "[(0, 1, 2016, 'University of Louisville', 'KY', 'NCAA Division I-FBS', 'NCAA', 87066830, 1723173, 33655301, 122445304, 6249734, 5907156, 5925, 6400, 12325),\n",
       " (1, 2, 2016, 'University of Kentucky', 'KY', 'NCAA Division I-FBS', 'NCAA', 65217902, 1626718, 55447093, 122307014, 7119237, 4874527, 9420, 11352, 20772),\n",
       " (2, 3, 2016, 'Indiana University-Bloomington', 'IN', 'NCAA Division I-FBS', 'NCAA', 62767976, 756377, 41294985, 104819338, 8487821, 7039065, 16085, 15799, 31884)]"
      ]
     },
     "execution_count": 96,
     "metadata": {},
     "output_type": "execute_result"
    }
   ],
   "source": [
    "engine.execute(\"SELECT * FROM equity\").fetchall()"
   ]
  },
  {
   "cell_type": "code",
   "execution_count": 97,
   "metadata": {},
   "outputs": [
    {
     "data": {
      "text/plain": [
       "[('University of Louisville',),\n",
       " ('University of Kentucky',),\n",
       " ('Indiana University-Bloomington',)]"
      ]
     },
     "execution_count": 97,
     "metadata": {},
     "output_type": "execute_result"
    }
   ],
   "source": [
    "engine.execute(\"SELECT institution_name FROM equity\").fetchall()"
   ]
  },
  {
   "cell_type": "code",
   "execution_count": null,
   "metadata": {},
   "outputs": [],
   "source": []
  }
 ],
 "metadata": {
  "kernelspec": {
   "display_name": "Python 3",
   "language": "python",
   "name": "python3"
  },
  "language_info": {
   "codemirror_mode": {
    "name": "ipython",
    "version": 3
   },
   "file_extension": ".py",
   "mimetype": "text/x-python",
   "name": "python",
   "nbconvert_exporter": "python",
   "pygments_lexer": "ipython3",
   "version": "3.6.5"
  }
 },
 "nbformat": 4,
 "nbformat_minor": 2
}
